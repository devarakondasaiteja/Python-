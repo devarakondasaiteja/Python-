{
 "cells": [
  {
   "cell_type": "markdown",
   "id": "50cb1cb0",
   "metadata": {},
   "source": [
    "## NUMPY"
   ]
  },
  {
   "cell_type": "markdown",
   "id": "fae233ea",
   "metadata": {},
   "source": [
    "Numpy stands for numerical python.it is a python library.it is a perfect tool for scientific computing and performing array operations and matrics in python"
   ]
  },
  {
   "cell_type": "markdown",
   "id": "7041ab48",
   "metadata": {},
   "source": [
    "* Arrays\n",
    "* Arange function\n",
    "* zeros function, ones function, eye function\n",
    "* Random values(uniform(0 to 1), normal(-3 to 3)) , random integers(ceil,floor,round)\n",
    "* indexing and slicing\n",
    "* colon method."
   ]
  },
  {
   "cell_type": "code",
   "execution_count": 2,
   "id": "c976ce9d",
   "metadata": {},
   "outputs": [
    {
     "name": "stdout",
     "output_type": "stream",
     "text": [
      "1.20.1\n"
     ]
    }
   ],
   "source": [
    "print(np.__version__)"
   ]
  },
  {
   "cell_type": "code",
   "execution_count": 1,
   "id": "7af81396",
   "metadata": {},
   "outputs": [],
   "source": [
    "import numpy as np"
   ]
  },
  {
   "cell_type": "code",
   "execution_count": 4,
   "id": "b5f330a2",
   "metadata": {},
   "outputs": [
    {
     "name": "stdout",
     "output_type": "stream",
     "text": [
      "(1, 2, 3, 4, 5, 6, 7, 8, 9, 10)\n"
     ]
    }
   ],
   "source": [
    "A=(1,2,3,4,5,6,7,8,9,10)\n",
    "print(A)"
   ]
  },
  {
   "cell_type": "code",
   "execution_count": 5,
   "id": "745bf48f",
   "metadata": {},
   "outputs": [
    {
     "data": {
      "text/plain": [
       "array([ 1,  2,  3,  4,  5,  6,  7,  8,  9, 10])"
      ]
     },
     "execution_count": 5,
     "metadata": {},
     "output_type": "execute_result"
    }
   ],
   "source": [
    "# Python arrays are used when you need to use many variables which are of the same type.\n",
    "np.array(A)"
   ]
  },
  {
   "cell_type": "code",
   "execution_count": 6,
   "id": "d7b06935",
   "metadata": {},
   "outputs": [
    {
     "data": {
      "text/plain": [
       "(10,)"
      ]
     },
     "execution_count": 6,
     "metadata": {},
     "output_type": "execute_result"
    }
   ],
   "source": [
    "np.array(A).shape  # single Dimensional array"
   ]
  },
  {
   "cell_type": "code",
   "execution_count": 7,
   "id": "a9e3f7fb",
   "metadata": {},
   "outputs": [
    {
     "data": {
      "text/plain": [
       "array([[ 1,  2,  3,  4,  5],\n",
       "       [ 6,  7,  8,  9, 10]])"
      ]
     },
     "execution_count": 7,
     "metadata": {},
     "output_type": "execute_result"
    }
   ],
   "source": [
    "np.array(A).reshape(2,5)"
   ]
  },
  {
   "cell_type": "code",
   "execution_count": 9,
   "id": "a8abbef0",
   "metadata": {},
   "outputs": [
    {
     "name": "stdout",
     "output_type": "stream",
     "text": [
      "[ 1  2  3  4  5  6  7  8  9 10]\n"
     ]
    }
   ],
   "source": [
    "B=np.array(A)\n",
    "print(B)"
   ]
  },
  {
   "cell_type": "code",
   "execution_count": 10,
   "id": "041c2e21",
   "metadata": {},
   "outputs": [
    {
     "data": {
      "text/plain": [
       "(10,)"
      ]
     },
     "execution_count": 10,
     "metadata": {},
     "output_type": "execute_result"
    }
   ],
   "source": [
    "B.shape"
   ]
  },
  {
   "cell_type": "code",
   "execution_count": 11,
   "id": "52ab4fc2",
   "metadata": {},
   "outputs": [
    {
     "data": {
      "text/plain": [
       "array([[ 1,  2],\n",
       "       [ 3,  4],\n",
       "       [ 5,  6],\n",
       "       [ 7,  8],\n",
       "       [ 9, 10]])"
      ]
     },
     "execution_count": 11,
     "metadata": {},
     "output_type": "execute_result"
    }
   ],
   "source": [
    "B.reshape(5,2)"
   ]
  },
  {
   "cell_type": "markdown",
   "id": "5ea88668",
   "metadata": {},
   "source": [
    "# Builtin Methods"
   ]
  },
  {
   "cell_type": "markdown",
   "id": "80ee84af",
   "metadata": {},
   "source": [
    "Arange function"
   ]
  },
  {
   "cell_type": "markdown",
   "id": "c3d0a5b3",
   "metadata": {},
   "source": [
    "Return evenly spaced values within a specified interval"
   ]
  },
  {
   "cell_type": "code",
   "execution_count": 16,
   "id": "c29de5a1",
   "metadata": {},
   "outputs": [
    {
     "data": {
      "text/plain": [
       "array([ 1,  2,  3,  4,  5,  6,  7,  8,  9, 10, 11, 12, 13, 14, 15, 16, 17,\n",
       "       18, 19])"
      ]
     },
     "execution_count": 16,
     "metadata": {},
     "output_type": "execute_result"
    }
   ],
   "source": [
    "np.arange(1,20) # end point will be n-1 by default equal spacing 1"
   ]
  },
  {
   "cell_type": "code",
   "execution_count": 18,
   "id": "e907d9a7",
   "metadata": {},
   "outputs": [
    {
     "data": {
      "text/plain": [
       "array([ 2,  3,  4,  5,  6,  7,  8,  9, 10, 11, 12, 13, 14, 15, 16, 17, 18,\n",
       "       19, 20, 21, 22, 23, 24, 25, 26, 27, 28, 29, 30, 31, 32, 33, 34])"
      ]
     },
     "execution_count": 18,
     "metadata": {},
     "output_type": "execute_result"
    }
   ],
   "source": [
    "np.arange(2,35)"
   ]
  },
  {
   "cell_type": "code",
   "execution_count": 24,
   "id": "e645d711",
   "metadata": {},
   "outputs": [
    {
     "data": {
      "text/plain": [
       "array([ 1,  4,  7, 10, 13, 16, 19, 22, 25, 28])"
      ]
     },
     "execution_count": 24,
     "metadata": {},
     "output_type": "execute_result"
    }
   ],
   "source": [
    "np.arange(1,30,3) # 3 is the speceing between the values"
   ]
  },
  {
   "cell_type": "code",
   "execution_count": 22,
   "id": "4c4a002c",
   "metadata": {},
   "outputs": [
    {
     "data": {
      "text/plain": [
       "(9,)"
      ]
     },
     "execution_count": 22,
     "metadata": {},
     "output_type": "execute_result"
    }
   ],
   "source": [
    "np.arange(5,50,5).shape"
   ]
  },
  {
   "cell_type": "code",
   "execution_count": 21,
   "id": "91616036",
   "metadata": {},
   "outputs": [
    {
     "data": {
      "text/plain": [
       "array([[ 5, 10, 15],\n",
       "       [20, 25, 30],\n",
       "       [35, 40, 45]])"
      ]
     },
     "execution_count": 21,
     "metadata": {},
     "output_type": "execute_result"
    }
   ],
   "source": [
    "np.arange(5,50,5).reshape(3,3)"
   ]
  },
  {
   "cell_type": "markdown",
   "id": "8e68e1b0",
   "metadata": {},
   "source": [
    "# zeros function"
   ]
  },
  {
   "cell_type": "raw",
   "id": "c3ea7717",
   "metadata": {},
   "source": [
    "numpy arrays returns a new array that contains zeros.\n",
    "The np.zeros() function returns a new array of given shape and type, with zeros.\n",
    "syntax:np.zeros(r,c(shape),dtype='int')"
   ]
  },
  {
   "cell_type": "code",
   "execution_count": 34,
   "id": "b76f1ff0",
   "metadata": {},
   "outputs": [
    {
     "data": {
      "text/plain": [
       "array([0., 0., 0., 0., 0., 0., 0., 0., 0., 0.])"
      ]
     },
     "execution_count": 34,
     "metadata": {},
     "output_type": "execute_result"
    }
   ],
   "source": [
    "np.zeros(10) # by default it will give float values"
   ]
  },
  {
   "cell_type": "code",
   "execution_count": 28,
   "id": "1aeb4c3c",
   "metadata": {},
   "outputs": [
    {
     "data": {
      "text/plain": [
       "array([0, 0, 0, 0, 0])"
      ]
     },
     "execution_count": 28,
     "metadata": {},
     "output_type": "execute_result"
    }
   ],
   "source": [
    "np.zeros(5,dtype='int')"
   ]
  },
  {
   "cell_type": "code",
   "execution_count": 30,
   "id": "c69428e9",
   "metadata": {},
   "outputs": [
    {
     "data": {
      "text/plain": [
       "array([[0., 0., 0.],\n",
       "       [0., 0., 0.],\n",
       "       [0., 0., 0.],\n",
       "       [0., 0., 0.]])"
      ]
     },
     "execution_count": 30,
     "metadata": {},
     "output_type": "execute_result"
    }
   ],
   "source": [
    "np.zeros((4,3))"
   ]
  },
  {
   "cell_type": "code",
   "execution_count": 33,
   "id": "23cdb57c",
   "metadata": {
    "scrolled": true
   },
   "outputs": [
    {
     "data": {
      "text/plain": [
       "array([[0, 0, 0],\n",
       "       [0, 0, 0],\n",
       "       [0, 0, 0]])"
      ]
     },
     "execution_count": 33,
     "metadata": {},
     "output_type": "execute_result"
    }
   ],
   "source": [
    "np.zeros((3,3),dtype='int')"
   ]
  },
  {
   "cell_type": "code",
   "execution_count": 42,
   "id": "cb227dd1",
   "metadata": {},
   "outputs": [
    {
     "data": {
      "text/plain": [
       "array([0., 0., 0., 0., 0.])"
      ]
     },
     "execution_count": 42,
     "metadata": {},
     "output_type": "execute_result"
    }
   ],
   "source": [
    "np.zeros(5)*5"
   ]
  },
  {
   "cell_type": "code",
   "execution_count": 98,
   "id": "f3dbc975",
   "metadata": {},
   "outputs": [
    {
     "name": "stdout",
     "output_type": "stream",
     "text": [
      "[[(0., 0) (0., 0)]\n",
      " [(0., 0) (0., 0)]\n",
      " [(0., 0) (0., 0)]] , 2\n"
     ]
    }
   ],
   "source": [
    "a=np.zeros((3,2),dtype=[('x','float'),('y','int')])\n",
    "print(a,',',a.ndim)"
   ]
  },
  {
   "cell_type": "code",
   "execution_count": 104,
   "id": "750abf10",
   "metadata": {},
   "outputs": [
    {
     "data": {
      "text/plain": [
       "array([0, 0, 0])"
      ]
     },
     "execution_count": 104,
     "metadata": {},
     "output_type": "execute_result"
    }
   ],
   "source": [
    "np.zeros(3,dtype='int',order='f')"
   ]
  },
  {
   "cell_type": "markdown",
   "id": "fb27d9ae",
   "metadata": {},
   "source": [
    "# ones function"
   ]
  },
  {
   "cell_type": "raw",
   "id": "16a06c0c",
   "metadata": {},
   "source": [
    "Generates array ones in shape format.\n",
    "The np.ones() function returns a new array of given shape and type, with ones.\n",
    "syntax:np.ones(r,c(shape),dtype='int')"
   ]
  },
  {
   "cell_type": "code",
   "execution_count": 35,
   "id": "b5ae9b72",
   "metadata": {},
   "outputs": [
    {
     "data": {
      "text/plain": [
       "array([1., 1., 1., 1., 1., 1., 1., 1., 1., 1.])"
      ]
     },
     "execution_count": 35,
     "metadata": {},
     "output_type": "execute_result"
    }
   ],
   "source": [
    "np.ones(10)"
   ]
  },
  {
   "cell_type": "code",
   "execution_count": 36,
   "id": "8c6c0805",
   "metadata": {},
   "outputs": [
    {
     "data": {
      "text/plain": [
       "array([1, 1, 1, 1, 1, 1, 1, 1, 1, 1])"
      ]
     },
     "execution_count": 36,
     "metadata": {},
     "output_type": "execute_result"
    }
   ],
   "source": [
    "np.ones(10,dtype='int')"
   ]
  },
  {
   "cell_type": "code",
   "execution_count": 37,
   "id": "15ed1199",
   "metadata": {},
   "outputs": [
    {
     "data": {
      "text/plain": [
       "array([5., 5., 5., 5., 5., 5., 5., 5., 5., 5.])"
      ]
     },
     "execution_count": 37,
     "metadata": {},
     "output_type": "execute_result"
    }
   ],
   "source": [
    "np.ones(10)*5"
   ]
  },
  {
   "cell_type": "code",
   "execution_count": 39,
   "id": "5e3d92da",
   "metadata": {
    "scrolled": true
   },
   "outputs": [
    {
     "data": {
      "text/plain": [
       "array([[1., 1., 1., 1., 1.],\n",
       "       [1., 1., 1., 1., 1.],\n",
       "       [1., 1., 1., 1., 1.],\n",
       "       [1., 1., 1., 1., 1.],\n",
       "       [1., 1., 1., 1., 1.]])"
      ]
     },
     "execution_count": 39,
     "metadata": {},
     "output_type": "execute_result"
    }
   ],
   "source": [
    "np.ones((5,5))"
   ]
  },
  {
   "cell_type": "code",
   "execution_count": 105,
   "id": "7651ee86",
   "metadata": {},
   "outputs": [
    {
     "data": {
      "text/plain": [
       "array([[1, 1],\n",
       "       [1, 1]])"
      ]
     },
     "execution_count": 105,
     "metadata": {},
     "output_type": "execute_result"
    }
   ],
   "source": [
    "np.ones((2,2),dtype='int')"
   ]
  },
  {
   "cell_type": "markdown",
   "id": "0f8df8a0",
   "metadata": {},
   "source": []
  },
  {
   "cell_type": "markdown",
   "id": "dfb0233c",
   "metadata": {},
   "source": [
    "### Eye Function"
   ]
  },
  {
   "cell_type": "raw",
   "id": "2b813d7a",
   "metadata": {},
   "source": [
    "syntax:np.eye(R, C(shape), k = 0, dtype = type)\n",
    "The eye tool returns a 2-D array with  1’s as the diagonal and  0’s elsewhere. The diagonal can be main, upper, or lower depending on the optional parameter k. A positive k is for the upper diagonal, a negative k is for the lower, and a  0 k (default) is for the main diagonal."
   ]
  },
  {
   "cell_type": "code",
   "execution_count": 3,
   "id": "66806ebe",
   "metadata": {},
   "outputs": [
    {
     "data": {
      "text/plain": [
       "array([[1., 0., 0., 0.],\n",
       "       [0., 1., 0., 0.],\n",
       "       [0., 0., 1., 0.],\n",
       "       [0., 0., 0., 1.]])"
      ]
     },
     "execution_count": 3,
     "metadata": {},
     "output_type": "execute_result"
    }
   ],
   "source": [
    "np.eye(4)"
   ]
  },
  {
   "cell_type": "code",
   "execution_count": 4,
   "id": "a5b9f0b9",
   "metadata": {
    "scrolled": false
   },
   "outputs": [
    {
     "data": {
      "text/plain": [
       "array([[1, 0, 0],\n",
       "       [0, 1, 0],\n",
       "       [0, 0, 1]])"
      ]
     },
     "execution_count": 4,
     "metadata": {},
     "output_type": "execute_result"
    }
   ],
   "source": [
    "np.eye(3,dtype='int')"
   ]
  },
  {
   "cell_type": "code",
   "execution_count": 5,
   "id": "a023d529",
   "metadata": {},
   "outputs": [
    {
     "data": {
      "text/plain": [
       "array([[5., 0., 0., 0.],\n",
       "       [0., 5., 0., 0.],\n",
       "       [0., 0., 5., 0.],\n",
       "       [0., 0., 0., 5.]])"
      ]
     },
     "execution_count": 5,
     "metadata": {},
     "output_type": "execute_result"
    }
   ],
   "source": [
    "np.eye(4)*5"
   ]
  },
  {
   "cell_type": "code",
   "execution_count": 7,
   "id": "0d62beed",
   "metadata": {},
   "outputs": [
    {
     "data": {
      "text/plain": [
       "array([[1, 0, 0],\n",
       "       [0, 1, 0],\n",
       "       [0, 0, 1]])"
      ]
     },
     "execution_count": 7,
     "metadata": {},
     "output_type": "execute_result"
    }
   ],
   "source": [
    "np.eye(3,3,dtype='int')"
   ]
  },
  {
   "cell_type": "code",
   "execution_count": 8,
   "id": "f4cd5cac",
   "metadata": {},
   "outputs": [
    {
     "data": {
      "text/plain": [
       "array([[0, 1, 0],\n",
       "       [0, 0, 1],\n",
       "       [0, 0, 0]])"
      ]
     },
     "execution_count": 8,
     "metadata": {},
     "output_type": "execute_result"
    }
   ],
   "source": [
    "np.eye(3,k=1,dtype='int')"
   ]
  },
  {
   "cell_type": "code",
   "execution_count": 9,
   "id": "caa4fe93",
   "metadata": {},
   "outputs": [
    {
     "data": {
      "text/plain": [
       "array([[0, 0, 0],\n",
       "       [1, 0, 0],\n",
       "       [0, 1, 0]])"
      ]
     },
     "execution_count": 9,
     "metadata": {},
     "output_type": "execute_result"
    }
   ],
   "source": [
    "np.eye(3,k=-1,dtype='int')"
   ]
  },
  {
   "cell_type": "code",
   "execution_count": 11,
   "id": "5a64cdf0",
   "metadata": {},
   "outputs": [
    {
     "name": "stdout",
     "output_type": "stream",
     "text": [
      "[[1 0 0 0 0]\n",
      " [0 2 0 0 0]\n",
      " [0 0 3 0 0]\n",
      " [0 0 0 4 0]\n",
      " [0 0 0 0 5]]\n"
     ]
    }
   ],
   "source": [
    "x=np.diag([1,2,3,4,5])\n",
    "print(x)"
   ]
  },
  {
   "cell_type": "markdown",
   "id": "39a9df85",
   "metadata": {},
   "source": [
    "### Random values "
   ]
  },
  {
   "cell_type": "markdown",
   "id": "104c477a",
   "metadata": {},
   "source": [
    "#### rand...uniform distribution..range between 0 to 1"
   ]
  },
  {
   "cell_type": "code",
   "execution_count": 12,
   "id": "f99c4a6b",
   "metadata": {},
   "outputs": [
    {
     "data": {
      "text/plain": [
       "array([0.34464846, 0.84832082, 0.92931099])"
      ]
     },
     "execution_count": 12,
     "metadata": {},
     "output_type": "execute_result"
    }
   ],
   "source": [
    "np.random.rand(3)"
   ]
  },
  {
   "cell_type": "code",
   "execution_count": 13,
   "id": "5af06326",
   "metadata": {},
   "outputs": [
    {
     "data": {
      "text/plain": [
       "array([[0.0767788 , 0.02688478, 0.58681859, 0.21467927, 0.81053785],\n",
       "       [0.68610858, 0.68088316, 0.92221617, 0.10190413, 0.73721548],\n",
       "       [0.48568905, 0.53571815, 0.84586016, 0.36748086, 0.09800925]])"
      ]
     },
     "execution_count": 13,
     "metadata": {},
     "output_type": "execute_result"
    }
   ],
   "source": [
    "np.random.rand(3,5)"
   ]
  },
  {
   "cell_type": "markdown",
   "id": "a64b8f49",
   "metadata": {},
   "source": [
    "### randn.. normal  distribution..range between -3 to 3"
   ]
  },
  {
   "cell_type": "code",
   "execution_count": 14,
   "id": "3bb3e91b",
   "metadata": {},
   "outputs": [
    {
     "data": {
      "text/plain": [
       "array([-0.54592878, -1.22115415, -0.2148737 , -0.30391764, -1.10489914])"
      ]
     },
     "execution_count": 14,
     "metadata": {},
     "output_type": "execute_result"
    }
   ],
   "source": [
    "np.random.randn(5)"
   ]
  },
  {
   "cell_type": "code",
   "execution_count": 16,
   "id": "66a8c1b1",
   "metadata": {},
   "outputs": [
    {
     "data": {
      "text/plain": [
       "array([[-0.3955705 ,  0.7706713 ,  0.14439199, -0.13105547, -1.13315811,\n",
       "         1.13364903],\n",
       "       [ 0.15820112,  1.27755811,  0.07947868,  0.11381044, -0.12154003,\n",
       "         1.20240749],\n",
       "       [ 0.06128835, -0.24381235,  0.44983313,  0.76581638, -0.84772573,\n",
       "         0.78421885],\n",
       "       [ 0.26070262,  1.10072443,  0.98025945, -0.57060009,  0.63121995,\n",
       "        -1.9353765 ]])"
      ]
     },
     "execution_count": 16,
     "metadata": {},
     "output_type": "execute_result"
    }
   ],
   "source": [
    "np.random.randn(4,6)"
   ]
  },
  {
   "cell_type": "markdown",
   "id": "f93f2434",
   "metadata": {},
   "source": [
    "### Random integer"
   ]
  },
  {
   "cell_type": "code",
   "execution_count": 19,
   "id": "7820ed58",
   "metadata": {},
   "outputs": [
    {
     "data": {
      "text/plain": [
       "5"
      ]
     },
     "execution_count": 19,
     "metadata": {},
     "output_type": "execute_result"
    }
   ],
   "source": [
    "np.random.randint(6) ## end point is n-1"
   ]
  },
  {
   "cell_type": "code",
   "execution_count": 20,
   "id": "fb022303",
   "metadata": {},
   "outputs": [
    {
     "data": {
      "text/plain": [
       "3"
      ]
     },
     "execution_count": 20,
     "metadata": {},
     "output_type": "execute_result"
    }
   ],
   "source": [
    "np.random.randint(3,5) ## one random value is given i.e lies between 3 TO 5"
   ]
  },
  {
   "cell_type": "code",
   "execution_count": 23,
   "id": "c0246f54",
   "metadata": {},
   "outputs": [
    {
     "data": {
      "text/plain": [
       "array([10,  3, 14])"
      ]
     },
     "execution_count": 23,
     "metadata": {},
     "output_type": "execute_result"
    }
   ],
   "source": [
    "np.random.randint(1,15,3) ## 3 random values can be displayed i.e lies between 1to 15"
   ]
  },
  {
   "cell_type": "code",
   "execution_count": 25,
   "id": "61949752",
   "metadata": {},
   "outputs": [
    {
     "data": {
      "text/plain": [
       "array([[10, 10, 14],\n",
       "       [12, 11, 12]])"
      ]
     },
     "execution_count": 25,
     "metadata": {},
     "output_type": "execute_result"
    }
   ],
   "source": [
    "np.random.randint(10,20,(2,3))"
   ]
  },
  {
   "cell_type": "code",
   "execution_count": 27,
   "id": "6d962be9",
   "metadata": {},
   "outputs": [
    {
     "data": {
      "text/plain": [
       "array([ 1,  2,  3,  4,  5,  6,  7,  8,  9, 10, 11, 12, 13, 14, 15, 16, 17,\n",
       "       18, 19])"
      ]
     },
     "execution_count": 27,
     "metadata": {},
     "output_type": "execute_result"
    }
   ],
   "source": [
    "d=np.arange(1,20)\n",
    "d"
   ]
  },
  {
   "cell_type": "code",
   "execution_count": 31,
   "id": "b397b6ac",
   "metadata": {},
   "outputs": [
    {
     "data": {
      "text/plain": [
       "(19,)"
      ]
     },
     "execution_count": 31,
     "metadata": {},
     "output_type": "execute_result"
    }
   ],
   "source": [
    "d.shape"
   ]
  },
  {
   "cell_type": "code",
   "execution_count": 28,
   "id": "471b581c",
   "metadata": {},
   "outputs": [
    {
     "data": {
      "text/plain": [
       "1"
      ]
     },
     "execution_count": 28,
     "metadata": {},
     "output_type": "execute_result"
    }
   ],
   "source": [
    "d.min()"
   ]
  },
  {
   "cell_type": "code",
   "execution_count": 29,
   "id": "2b926170",
   "metadata": {},
   "outputs": [
    {
     "data": {
      "text/plain": [
       "19"
      ]
     },
     "execution_count": 29,
     "metadata": {},
     "output_type": "execute_result"
    }
   ],
   "source": [
    "d.max()"
   ]
  },
  {
   "cell_type": "code",
   "execution_count": 32,
   "id": "85dc84c7",
   "metadata": {},
   "outputs": [
    {
     "data": {
      "text/plain": [
       "0"
      ]
     },
     "execution_count": 32,
     "metadata": {},
     "output_type": "execute_result"
    }
   ],
   "source": [
    "d.argmin() # index position value of minimum"
   ]
  },
  {
   "cell_type": "code",
   "execution_count": 33,
   "id": "e7898d56",
   "metadata": {},
   "outputs": [
    {
     "data": {
      "text/plain": [
       "18"
      ]
     },
     "execution_count": 33,
     "metadata": {},
     "output_type": "execute_result"
    }
   ],
   "source": [
    "d.argmax() # index position of maximum"
   ]
  },
  {
   "cell_type": "markdown",
   "id": "77a6f0dc",
   "metadata": {},
   "source": [
    "## indexing and slicing"
   ]
  },
  {
   "cell_type": "code",
   "execution_count": 34,
   "id": "4e011f53",
   "metadata": {},
   "outputs": [
    {
     "data": {
      "text/plain": [
       "array([ 1,  2,  3,  4,  5,  6,  7,  8,  9, 10, 11, 12, 13, 14, 15, 16, 17,\n",
       "       18, 19])"
      ]
     },
     "execution_count": 34,
     "metadata": {},
     "output_type": "execute_result"
    }
   ],
   "source": [
    "d"
   ]
  },
  {
   "cell_type": "code",
   "execution_count": 35,
   "id": "cb605829",
   "metadata": {},
   "outputs": [
    {
     "data": {
      "text/plain": [
       "5"
      ]
     },
     "execution_count": 35,
     "metadata": {},
     "output_type": "execute_result"
    }
   ],
   "source": [
    "d[4] ## 4 is the index number"
   ]
  },
  {
   "cell_type": "code",
   "execution_count": 37,
   "id": "e4e950fd",
   "metadata": {},
   "outputs": [
    {
     "data": {
      "text/plain": [
       "array([ 5,  8, 10])"
      ]
     },
     "execution_count": 37,
     "metadata": {},
     "output_type": "execute_result"
    }
   ],
   "source": [
    "d[[4,7,9]] ## multiple index numbers"
   ]
  },
  {
   "cell_type": "markdown",
   "id": "00f019ce",
   "metadata": {},
   "source": [
    "## colon method"
   ]
  },
  {
   "cell_type": "code",
   "execution_count": 39,
   "id": "12e759e8",
   "metadata": {},
   "outputs": [
    {
     "data": {
      "text/plain": [
       "array([ 2,  3,  4,  5,  6,  7,  8,  9, 10])"
      ]
     },
     "execution_count": 39,
     "metadata": {},
     "output_type": "execute_result"
    }
   ],
   "source": [
    "d[1:10] ## end number is n-1, 1 & 10 are index numbers"
   ]
  },
  {
   "cell_type": "code",
   "execution_count": 40,
   "id": "fe99f158",
   "metadata": {},
   "outputs": [
    {
     "data": {
      "text/plain": [
       "array([3, 4, 5])"
      ]
     },
     "execution_count": 40,
     "metadata": {},
     "output_type": "execute_result"
    }
   ],
   "source": [
    "d[2:5]"
   ]
  },
  {
   "cell_type": "code",
   "execution_count": 42,
   "id": "d865378d",
   "metadata": {
    "scrolled": false
   },
   "outputs": [
    {
     "data": {
      "text/plain": [
       "array([  1,   2, 100, 200, 300,   6,   7,   8,   9,  10,  11,  12,  13,\n",
       "        14,  15,  16,  17,  18,  19])"
      ]
     },
     "execution_count": 42,
     "metadata": {},
     "output_type": "execute_result"
    }
   ],
   "source": [
    "d[2:5]=[100,200,300] ## replacing the values"
   ]
  },
  {
   "cell_type": "code",
   "execution_count": 109,
   "id": "421bcb31",
   "metadata": {},
   "outputs": [
    {
     "data": {
      "text/plain": [
       "array([ 5,  6,  7,  8,  9, 10, 11, 12, 13, 14])"
      ]
     },
     "execution_count": 109,
     "metadata": {},
     "output_type": "execute_result"
    }
   ],
   "source": [
    "a=np.arange(5,15)\n",
    "a"
   ]
  },
  {
   "cell_type": "code",
   "execution_count": 110,
   "id": "2c5cf74a",
   "metadata": {},
   "outputs": [
    {
     "data": {
      "text/plain": [
       "7"
      ]
     },
     "execution_count": 110,
     "metadata": {},
     "output_type": "execute_result"
    }
   ],
   "source": [
    "a[2]"
   ]
  },
  {
   "cell_type": "code",
   "execution_count": 111,
   "id": "b221dfd2",
   "metadata": {},
   "outputs": [
    {
     "data": {
      "text/plain": [
       "array([5])"
      ]
     },
     "execution_count": 111,
     "metadata": {},
     "output_type": "execute_result"
    }
   ],
   "source": [
    "a[0:1]"
   ]
  },
  {
   "cell_type": "code",
   "execution_count": 113,
   "id": "0f10ec74",
   "metadata": {},
   "outputs": [
    {
     "data": {
      "text/plain": [
       "array([6, 7])"
      ]
     },
     "execution_count": 113,
     "metadata": {},
     "output_type": "execute_result"
    }
   ],
   "source": [
    "a[1:3]"
   ]
  },
  {
   "cell_type": "code",
   "execution_count": 115,
   "id": "2e5d7176",
   "metadata": {},
   "outputs": [
    {
     "data": {
      "text/plain": [
       "array([ 5,  3,  4,  8,  9, 10, 11, 12, 13, 14])"
      ]
     },
     "execution_count": 115,
     "metadata": {},
     "output_type": "execute_result"
    }
   ],
   "source": [
    "a[1:3]=[3,4]\n",
    "a"
   ]
  },
  {
   "cell_type": "markdown",
   "id": "a57f3755",
   "metadata": {},
   "source": [
    "### Multdimensional array"
   ]
  },
  {
   "cell_type": "code",
   "execution_count": 48,
   "id": "3febd6e7",
   "metadata": {},
   "outputs": [
    {
     "data": {
      "text/plain": [
       "array([[ 1,  5, 10],\n",
       "       [15, 20, 25],\n",
       "       [30, 35, 40]])"
      ]
     },
     "execution_count": 48,
     "metadata": {},
     "output_type": "execute_result"
    }
   ],
   "source": [
    "a_2d=np.array([[1,5,10],[15,20,25],[30,35,40]])\n",
    "a_2d"
   ]
  },
  {
   "cell_type": "code",
   "execution_count": 68,
   "id": "4af77ec0",
   "metadata": {},
   "outputs": [
    {
     "data": {
      "text/plain": [
       "2"
      ]
     },
     "execution_count": 68,
     "metadata": {},
     "output_type": "execute_result"
    }
   ],
   "source": [
    "a_2d.ndim"
   ]
  },
  {
   "cell_type": "code",
   "execution_count": 49,
   "id": "60157efe",
   "metadata": {},
   "outputs": [
    {
     "data": {
      "text/plain": [
       "(3, 3)"
      ]
     },
     "execution_count": 49,
     "metadata": {},
     "output_type": "execute_result"
    }
   ],
   "source": [
    "a_2d.shape"
   ]
  },
  {
   "cell_type": "code",
   "execution_count": 50,
   "id": "f5fd7448",
   "metadata": {},
   "outputs": [
    {
     "data": {
      "text/plain": [
       "array([15, 20, 25])"
      ]
     },
     "execution_count": 50,
     "metadata": {},
     "output_type": "execute_result"
    }
   ],
   "source": [
    "a_2d[1]"
   ]
  },
  {
   "cell_type": "code",
   "execution_count": 51,
   "id": "eef5bc74",
   "metadata": {},
   "outputs": [
    {
     "data": {
      "text/plain": [
       "25"
      ]
     },
     "execution_count": 51,
     "metadata": {},
     "output_type": "execute_result"
    }
   ],
   "source": [
    "a_2d[1,2]"
   ]
  },
  {
   "cell_type": "code",
   "execution_count": 52,
   "id": "c22ead23",
   "metadata": {},
   "outputs": [
    {
     "data": {
      "text/plain": [
       "35"
      ]
     },
     "execution_count": 52,
     "metadata": {},
     "output_type": "execute_result"
    }
   ],
   "source": [
    "a_2d[2,1]"
   ]
  },
  {
   "cell_type": "code",
   "execution_count": 73,
   "id": "abfe0860",
   "metadata": {},
   "outputs": [
    {
     "data": {
      "text/plain": [
       "array([30, 35, 40])"
      ]
     },
     "execution_count": 73,
     "metadata": {},
     "output_type": "execute_result"
    }
   ],
   "source": [
    "a_2d[-1]"
   ]
  },
  {
   "cell_type": "code",
   "execution_count": 74,
   "id": "2de39a23",
   "metadata": {},
   "outputs": [
    {
     "data": {
      "text/plain": [
       "array([30, 35])"
      ]
     },
     "execution_count": 74,
     "metadata": {},
     "output_type": "execute_result"
    }
   ],
   "source": [
    "a_2d[-1,0:2]"
   ]
  },
  {
   "cell_type": "code",
   "execution_count": 53,
   "id": "2cae4ff0",
   "metadata": {},
   "outputs": [
    {
     "data": {
      "text/plain": [
       "array([ 5, 20, 35])"
      ]
     },
     "execution_count": 53,
     "metadata": {},
     "output_type": "execute_result"
    }
   ],
   "source": [
    "a_2d[[0,1,2],1]"
   ]
  },
  {
   "cell_type": "code",
   "execution_count": 54,
   "id": "b3b85254",
   "metadata": {},
   "outputs": [
    {
     "data": {
      "text/plain": [
       "array([[ 5],\n",
       "       [20],\n",
       "       [35]])"
      ]
     },
     "execution_count": 54,
     "metadata": {},
     "output_type": "execute_result"
    }
   ],
   "source": [
    "a_2d[0:3,1:2]"
   ]
  },
  {
   "cell_type": "code",
   "execution_count": 56,
   "id": "cd88648d",
   "metadata": {},
   "outputs": [
    {
     "data": {
      "text/plain": [
       "array([[35, 40]])"
      ]
     },
     "execution_count": 56,
     "metadata": {},
     "output_type": "execute_result"
    }
   ],
   "source": [
    "a_2d[2:3,1:3]"
   ]
  },
  {
   "cell_type": "code",
   "execution_count": 57,
   "id": "153551b6",
   "metadata": {},
   "outputs": [
    {
     "data": {
      "text/plain": [
       "array([[20]])"
      ]
     },
     "execution_count": 57,
     "metadata": {},
     "output_type": "execute_result"
    }
   ],
   "source": [
    "a_2d[1:2,1:2]"
   ]
  },
  {
   "cell_type": "markdown",
   "id": "6b6fc173",
   "metadata": {},
   "source": [
    "## comparision"
   ]
  },
  {
   "cell_type": "code",
   "execution_count": 58,
   "id": "2db51f41",
   "metadata": {
    "scrolled": true
   },
   "outputs": [
    {
     "data": {
      "text/plain": [
       "array([[False, False, False],\n",
       "       [False,  True,  True],\n",
       "       [ True,  True,  True]])"
      ]
     },
     "execution_count": 58,
     "metadata": {},
     "output_type": "execute_result"
    }
   ],
   "source": [
    "a_2d>15"
   ]
  },
  {
   "cell_type": "code",
   "execution_count": 59,
   "id": "612be8b4",
   "metadata": {
    "scrolled": true
   },
   "outputs": [
    {
     "data": {
      "text/plain": [
       "array([20, 25, 30, 35, 40])"
      ]
     },
     "execution_count": 59,
     "metadata": {},
     "output_type": "execute_result"
    }
   ],
   "source": [
    "a_2d[a_2d>15]"
   ]
  },
  {
   "cell_type": "code",
   "execution_count": 63,
   "id": "8fff8163",
   "metadata": {},
   "outputs": [
    {
     "data": {
      "text/plain": [
       "array([40])"
      ]
     },
     "execution_count": 63,
     "metadata": {},
     "output_type": "execute_result"
    }
   ],
   "source": [
    "a_2d[a_2d==40]"
   ]
  },
  {
   "cell_type": "code",
   "execution_count": 64,
   "id": "f9a126c0",
   "metadata": {},
   "outputs": [
    {
     "data": {
      "text/plain": [
       "array([  1,   2, 100, 200, 300,   6,   7,   8,   9,  10,  11,  12,  13,\n",
       "        14,  15,  16,  17,  18,  19])"
      ]
     },
     "execution_count": 64,
     "metadata": {},
     "output_type": "execute_result"
    }
   ],
   "source": [
    "d"
   ]
  },
  {
   "cell_type": "code",
   "execution_count": 69,
   "id": "d2cb8c78",
   "metadata": {},
   "outputs": [
    {
     "data": {
      "text/plain": [
       "1"
      ]
     },
     "execution_count": 69,
     "metadata": {},
     "output_type": "execute_result"
    }
   ],
   "source": [
    "d.ndim"
   ]
  },
  {
   "cell_type": "markdown",
   "id": "3c855ee9",
   "metadata": {},
   "source": [
    "## sorting"
   ]
  },
  {
   "cell_type": "code",
   "execution_count": 65,
   "id": "1b59b946",
   "metadata": {},
   "outputs": [
    {
     "data": {
      "text/plain": [
       "array([  1,   2,   6,   7,   8,   9,  10,  11,  12,  13,  14,  15,  16,\n",
       "        17,  18,  19, 100, 200, 300])"
      ]
     },
     "execution_count": 65,
     "metadata": {},
     "output_type": "execute_result"
    }
   ],
   "source": [
    "np.sort(d) # by defalut it takes ascending order"
   ]
  },
  {
   "cell_type": "code",
   "execution_count": 67,
   "id": "9c73fea3",
   "metadata": {},
   "outputs": [
    {
     "data": {
      "text/plain": [
       "array([300, 200, 100,  19,  18,  17,  16,  15,  14,  13,  12,  11,  10,\n",
       "         9,   8,   7,   6,   2,   1], dtype=int32)"
      ]
     },
     "execution_count": 67,
     "metadata": {},
     "output_type": "execute_result"
    }
   ],
   "source": [
    "~np.sort(~d)# decending order"
   ]
  },
  {
   "cell_type": "markdown",
   "id": "5d827c15",
   "metadata": {},
   "source": [
    "## Transpose "
   ]
  },
  {
   "cell_type": "code",
   "execution_count": 71,
   "id": "12dc1428",
   "metadata": {},
   "outputs": [
    {
     "data": {
      "text/plain": [
       "array([[ 9,  1, 17,  8,  7],\n",
       "       [19,  3,  0,  2, 16],\n",
       "       [18,  9,  4, 12,  9]])"
      ]
     },
     "execution_count": 71,
     "metadata": {},
     "output_type": "execute_result"
    }
   ],
   "source": [
    "matrix=np.random.randint(0,20,(3,5))\n",
    "matrix"
   ]
  },
  {
   "cell_type": "code",
   "execution_count": 72,
   "id": "2e0d13c0",
   "metadata": {},
   "outputs": [
    {
     "data": {
      "text/plain": [
       "array([[ 9, 19, 18],\n",
       "       [ 1,  3,  9],\n",
       "       [17,  0,  4],\n",
       "       [ 8,  2, 12],\n",
       "       [ 7, 16,  9]])"
      ]
     },
     "execution_count": 72,
     "metadata": {},
     "output_type": "execute_result"
    }
   ],
   "source": [
    "matrix.transpose()"
   ]
  },
  {
   "cell_type": "code",
   "execution_count": 80,
   "id": "65e128d8",
   "metadata": {},
   "outputs": [
    {
     "data": {
      "text/plain": [
       "array([[ 9, 19, 18],\n",
       "       [ 1,  3,  9],\n",
       "       [17,  0,  4],\n",
       "       [ 8,  2, 12],\n",
       "       [ 7, 16,  9]])"
      ]
     },
     "execution_count": 80,
     "metadata": {},
     "output_type": "execute_result"
    }
   ],
   "source": [
    "matrix.T"
   ]
  },
  {
   "cell_type": "code",
   "execution_count": 81,
   "id": "7c6cf53b",
   "metadata": {},
   "outputs": [
    {
     "data": {
      "text/plain": [
       "array([  1,   2, 100, 200, 300,   6,   7,   8,   9,  10,  11,  12,  13,\n",
       "        14,  15,  16,  17,  18,  19])"
      ]
     },
     "execution_count": 81,
     "metadata": {},
     "output_type": "execute_result"
    }
   ],
   "source": [
    "d"
   ]
  },
  {
   "cell_type": "code",
   "execution_count": 82,
   "id": "681ef6ef",
   "metadata": {},
   "outputs": [
    {
     "data": {
      "text/plain": [
       "array([  1,   2, 100, 200, 300,   6,   7,   8,   9,  10,  11,  12,  13,\n",
       "        14,  15,  16,  17,  18,  19,  25])"
      ]
     },
     "execution_count": 82,
     "metadata": {},
     "output_type": "execute_result"
    }
   ],
   "source": [
    "np.append(d,25)   # np.append(variable name,adding value)"
   ]
  },
  {
   "cell_type": "code",
   "execution_count": 83,
   "id": "48f018f7",
   "metadata": {},
   "outputs": [
    {
     "data": {
      "text/plain": [
       "array([  1,   2,  50, 100, 200, 300,   6,   7,   8,   9,  10,  11,  12,\n",
       "        13,  14,  15,  16,  17,  18,  19])"
      ]
     },
     "execution_count": 83,
     "metadata": {},
     "output_type": "execute_result"
    }
   ],
   "source": [
    "np.insert(d,2,50)   # np.insert(variable name,index position,inserted value)"
   ]
  },
  {
   "cell_type": "code",
   "execution_count": 84,
   "id": "30982766",
   "metadata": {},
   "outputs": [
    {
     "data": {
      "text/plain": [
       "array([  1, 100, 200, 300,   6,   7,   8,   9,  10,  11,  12,  13,  14,\n",
       "        15,  16,  17,  18,  19])"
      ]
     },
     "execution_count": 84,
     "metadata": {},
     "output_type": "execute_result"
    }
   ],
   "source": [
    "np.delete(d,1)    # np.delete(varible name,index position)"
   ]
  },
  {
   "cell_type": "code",
   "execution_count": 90,
   "id": "04c57125",
   "metadata": {},
   "outputs": [
    {
     "data": {
      "text/plain": [
       "array([[ 1,  2,  3,  4,  5],\n",
       "       [ 6,  7,  8,  9, 10],\n",
       "       [11, 12, 13, 14, 15]])"
      ]
     },
     "execution_count": 90,
     "metadata": {},
     "output_type": "execute_result"
    }
   ],
   "source": [
    "matrix=np.arange(1,16).reshape(3,5)\n",
    "matrix"
   ]
  },
  {
   "cell_type": "code",
   "execution_count": 92,
   "id": "7474105c",
   "metadata": {},
   "outputs": [
    {
     "data": {
      "text/plain": [
       "array([18, 21, 24, 27, 30])"
      ]
     },
     "execution_count": 92,
     "metadata": {},
     "output_type": "execute_result"
    }
   ],
   "source": [
    "matrix.sum(axis=0) # axis=0 for columns"
   ]
  },
  {
   "cell_type": "code",
   "execution_count": 93,
   "id": "d02f8351",
   "metadata": {},
   "outputs": [
    {
     "data": {
      "text/plain": [
       "array([15, 40, 65])"
      ]
     },
     "execution_count": 93,
     "metadata": {},
     "output_type": "execute_result"
    }
   ],
   "source": [
    "matrix.sum(axis=1) # axis=1 for rows"
   ]
  },
  {
   "cell_type": "code",
   "execution_count": 94,
   "id": "9740a1c1",
   "metadata": {},
   "outputs": [
    {
     "data": {
      "text/plain": [
       "array([[ 1,  2,  3,  4],\n",
       "       [ 6,  7,  8,  9],\n",
       "       [11, 12, 13, 14]])"
      ]
     },
     "execution_count": 94,
     "metadata": {},
     "output_type": "execute_result"
    }
   ],
   "source": [
    "np.delete(matrix,4,axis=1) # np.delete(variable name,index position,axis=o(or)1)"
   ]
  },
  {
   "cell_type": "code",
   "execution_count": 95,
   "id": "5d058e82",
   "metadata": {},
   "outputs": [
    {
     "data": {
      "text/plain": [
       "array([[ 1,  2,  3,  4,  5],\n",
       "       [11, 12, 13, 14, 15]])"
      ]
     },
     "execution_count": 95,
     "metadata": {},
     "output_type": "execute_result"
    }
   ],
   "source": [
    "np.delete(matrix,1,axis=0)"
   ]
  },
  {
   "cell_type": "code",
   "execution_count": 101,
   "id": "96531358",
   "metadata": {},
   "outputs": [],
   "source": [
    "a=([[5,10,15]])\n",
    "b=([[20,25,30]])"
   ]
  },
  {
   "cell_type": "code",
   "execution_count": 102,
   "id": "c8293967",
   "metadata": {},
   "outputs": [
    {
     "data": {
      "text/plain": [
       "array([[ 5, 10, 15],\n",
       "       [20, 25, 30]])"
      ]
     },
     "execution_count": 102,
     "metadata": {},
     "output_type": "execute_result"
    }
   ],
   "source": [
    "np.concatenate((a,b),axis=0)"
   ]
  },
  {
   "cell_type": "code",
   "execution_count": 103,
   "id": "0b2c4084",
   "metadata": {},
   "outputs": [],
   "source": [
    "c=np.array([[10,15,20]])\n",
    "d=np.array([[25,30,35]])"
   ]
  },
  {
   "cell_type": "code",
   "execution_count": 104,
   "id": "263a1b96",
   "metadata": {},
   "outputs": [
    {
     "data": {
      "text/plain": [
       "array([[10, 15, 20],\n",
       "       [25, 30, 35]])"
      ]
     },
     "execution_count": 104,
     "metadata": {},
     "output_type": "execute_result"
    }
   ],
   "source": [
    "np.concatenate((c,d),axis=0)"
   ]
  },
  {
   "cell_type": "code",
   "execution_count": 105,
   "id": "f87cb1f6",
   "metadata": {},
   "outputs": [
    {
     "data": {
      "text/plain": [
       "array([[10, 15, 20, 25, 30, 35]])"
      ]
     },
     "execution_count": 105,
     "metadata": {},
     "output_type": "execute_result"
    }
   ],
   "source": [
    "np.concatenate((c,d),axis=1)"
   ]
  },
  {
   "cell_type": "code",
   "execution_count": 115,
   "id": "30803319",
   "metadata": {},
   "outputs": [
    {
     "data": {
      "text/plain": [
       "array([[1, 1],\n",
       "       [4, 2]])"
      ]
     },
     "execution_count": 115,
     "metadata": {},
     "output_type": "execute_result"
    }
   ],
   "source": [
    "a1=np.random.randint(1,5,(2,2))\n",
    "a2=np.random.randint(1,4,(2,2))\n",
    "a1"
   ]
  },
  {
   "cell_type": "code",
   "execution_count": 116,
   "id": "be711221",
   "metadata": {},
   "outputs": [
    {
     "data": {
      "text/plain": [
       "array([[3, 2],\n",
       "       [1, 2]])"
      ]
     },
     "execution_count": 116,
     "metadata": {},
     "output_type": "execute_result"
    }
   ],
   "source": [
    "a2"
   ]
  },
  {
   "cell_type": "code",
   "execution_count": 117,
   "id": "8d986d53",
   "metadata": {},
   "outputs": [
    {
     "data": {
      "text/plain": [
       "array([[4, 3],\n",
       "       [5, 4]])"
      ]
     },
     "execution_count": 117,
     "metadata": {},
     "output_type": "execute_result"
    }
   ],
   "source": [
    "np.add(a1,a2)"
   ]
  },
  {
   "cell_type": "code",
   "execution_count": 119,
   "id": "8e8f3f98",
   "metadata": {},
   "outputs": [
    {
     "data": {
      "text/plain": [
       "array([[-2, -1],\n",
       "       [ 3,  0]])"
      ]
     },
     "execution_count": 119,
     "metadata": {},
     "output_type": "execute_result"
    }
   ],
   "source": [
    "np.subtract(a1,a2)"
   ]
  },
  {
   "cell_type": "code",
   "execution_count": 120,
   "id": "cd3d793b",
   "metadata": {},
   "outputs": [
    {
     "data": {
      "text/plain": [
       "array([[3, 2],\n",
       "       [4, 4]])"
      ]
     },
     "execution_count": 120,
     "metadata": {},
     "output_type": "execute_result"
    }
   ],
   "source": [
    "np.multiply(a1,a2) # Normal multiplication"
   ]
  },
  {
   "cell_type": "code",
   "execution_count": 121,
   "id": "e81f5b7f",
   "metadata": {},
   "outputs": [
    {
     "data": {
      "text/plain": [
       "array([[ 4,  4],\n",
       "       [14, 12]])"
      ]
     },
     "execution_count": 121,
     "metadata": {},
     "output_type": "execute_result"
    }
   ],
   "source": [
    "np.matmul(a1,a2) # matrix multiplication"
   ]
  },
  {
   "cell_type": "code",
   "execution_count": 122,
   "id": "19272dbb",
   "metadata": {},
   "outputs": [
    {
     "data": {
      "text/plain": [
       "array([[ 4,  4],\n",
       "       [14, 12]])"
      ]
     },
     "execution_count": 122,
     "metadata": {},
     "output_type": "execute_result"
    }
   ],
   "source": [
    "a1.dot(a2) # matrix multiplication"
   ]
  },
  {
   "cell_type": "code",
   "execution_count": 123,
   "id": "e9fb2b9e",
   "metadata": {},
   "outputs": [
    {
     "data": {
      "text/plain": [
       "array([[0.33333333, 0.5       ],\n",
       "       [4.        , 1.        ]])"
      ]
     },
     "execution_count": 123,
     "metadata": {},
     "output_type": "execute_result"
    }
   ],
   "source": [
    "np.divide(a1,a2)"
   ]
  },
  {
   "cell_type": "code",
   "execution_count": 124,
   "id": "df0b1193",
   "metadata": {},
   "outputs": [
    {
     "data": {
      "text/plain": [
       "array([[1, 1],\n",
       "       [4, 4]], dtype=int32)"
      ]
     },
     "execution_count": 124,
     "metadata": {},
     "output_type": "execute_result"
    }
   ],
   "source": [
    "np.power(a1,a2)"
   ]
  },
  {
   "cell_type": "code",
   "execution_count": 125,
   "id": "cca3f061",
   "metadata": {},
   "outputs": [
    {
     "data": {
      "text/plain": [
       "array([[1.        , 1.        ],\n",
       "       [2.        , 1.41421356]])"
      ]
     },
     "execution_count": 125,
     "metadata": {},
     "output_type": "execute_result"
    }
   ],
   "source": [
    "np.sqrt(a1)"
   ]
  },
  {
   "cell_type": "code",
   "execution_count": 126,
   "id": "c83418ff",
   "metadata": {},
   "outputs": [
    {
     "data": {
      "text/plain": [
       "array([[1.73205081, 1.41421356],\n",
       "       [1.        , 1.41421356]])"
      ]
     },
     "execution_count": 126,
     "metadata": {},
     "output_type": "execute_result"
    }
   ],
   "source": [
    "np.sqrt(a2)"
   ]
  },
  {
   "cell_type": "code",
   "execution_count": 127,
   "id": "e92b134a",
   "metadata": {},
   "outputs": [
    {
     "data": {
      "text/plain": [
       "array([[0.        , 0.        ],\n",
       "       [1.38629436, 0.69314718]])"
      ]
     },
     "execution_count": 127,
     "metadata": {},
     "output_type": "execute_result"
    }
   ],
   "source": [
    "np.log(a1)"
   ]
  },
  {
   "cell_type": "code",
   "execution_count": 128,
   "id": "03d38508",
   "metadata": {},
   "outputs": [
    {
     "data": {
      "text/plain": [
       "array([[1.09861229, 0.69314718],\n",
       "       [0.        , 0.69314718]])"
      ]
     },
     "execution_count": 128,
     "metadata": {},
     "output_type": "execute_result"
    }
   ],
   "source": [
    "np.log(a2)"
   ]
  },
  {
   "cell_type": "markdown",
   "id": "ec29cc82",
   "metadata": {},
   "source": [
    "## ceil"
   ]
  },
  {
   "cell_type": "markdown",
   "id": "f6fcd831",
   "metadata": {},
   "source": [
    "##roundup the values to the next greatest number"
   ]
  },
  {
   "cell_type": "code",
   "execution_count": 137,
   "id": "3e9dff0f",
   "metadata": {},
   "outputs": [
    {
     "data": {
      "text/plain": [
       "array([ 1. ,  2.5,  4. ,  5.5,  7. ,  8.5, 10. , 11.5, 13. , 14.5])"
      ]
     },
     "execution_count": 137,
     "metadata": {},
     "output_type": "execute_result"
    }
   ],
   "source": [
    "A=np.arange(1,15,1.5)\n",
    "A"
   ]
  },
  {
   "cell_type": "code",
   "execution_count": 138,
   "id": "ddda28b2",
   "metadata": {},
   "outputs": [
    {
     "data": {
      "text/plain": [
       "array([ 1.,  3.,  4.,  6.,  7.,  9., 10., 12., 13., 15.])"
      ]
     },
     "execution_count": 138,
     "metadata": {},
     "output_type": "execute_result"
    }
   ],
   "source": [
    "np.ceil(A)"
   ]
  },
  {
   "cell_type": "markdown",
   "id": "27050ab9",
   "metadata": {},
   "source": [
    "### Floor"
   ]
  },
  {
   "cell_type": "markdown",
   "id": "74b4706d",
   "metadata": {},
   "source": [
    "##roundup the values to the least number"
   ]
  },
  {
   "cell_type": "code",
   "execution_count": 139,
   "id": "ff515fa6",
   "metadata": {},
   "outputs": [
    {
     "data": {
      "text/plain": [
       "array([ 1.,  2.,  4.,  5.,  7.,  8., 10., 11., 13., 14.])"
      ]
     },
     "execution_count": 139,
     "metadata": {},
     "output_type": "execute_result"
    }
   ],
   "source": [
    "np.floor(A)"
   ]
  },
  {
   "cell_type": "markdown",
   "id": "add8d4d9",
   "metadata": {},
   "source": [
    "## round"
   ]
  },
  {
   "cell_type": "raw",
   "id": "ad7c846f",
   "metadata": {},
   "source": [
    "### we need to given number of decimals"
   ]
  },
  {
   "cell_type": "code",
   "execution_count": 143,
   "id": "e340d6ff",
   "metadata": {},
   "outputs": [
    {
     "data": {
      "text/plain": [
       "array([0.70543495, 0.52175073, 0.50883259, 0.87099359, 0.67705856])"
      ]
     },
     "execution_count": 143,
     "metadata": {},
     "output_type": "execute_result"
    }
   ],
   "source": [
    "B=np.random.rand(5)\n",
    "B"
   ]
  },
  {
   "cell_type": "code",
   "execution_count": 144,
   "id": "8b12dc00",
   "metadata": {},
   "outputs": [
    {
     "data": {
      "text/plain": [
       "array([0.705, 0.522, 0.509, 0.871, 0.677])"
      ]
     },
     "execution_count": 144,
     "metadata": {},
     "output_type": "execute_result"
    }
   ],
   "source": [
    "np.round(B,3)"
   ]
  },
  {
   "cell_type": "markdown",
   "id": "33ae2a3f",
   "metadata": {},
   "source": [
    "## Mean"
   ]
  },
  {
   "cell_type": "code",
   "execution_count": 146,
   "id": "aa8dd963",
   "metadata": {},
   "outputs": [
    {
     "data": {
      "text/plain": [
       "array([[1, 1],\n",
       "       [4, 2]])"
      ]
     },
     "execution_count": 146,
     "metadata": {},
     "output_type": "execute_result"
    }
   ],
   "source": [
    "a1"
   ]
  },
  {
   "cell_type": "code",
   "execution_count": 147,
   "id": "25cb3a6a",
   "metadata": {},
   "outputs": [
    {
     "data": {
      "text/plain": [
       "2.0"
      ]
     },
     "execution_count": 147,
     "metadata": {},
     "output_type": "execute_result"
    }
   ],
   "source": [
    "np.mean(a1)"
   ]
  },
  {
   "cell_type": "code",
   "execution_count": 148,
   "id": "0708ed6b",
   "metadata": {},
   "outputs": [
    {
     "data": {
      "text/plain": [
       "array([2.5, 1.5])"
      ]
     },
     "execution_count": 148,
     "metadata": {},
     "output_type": "execute_result"
    }
   ],
   "source": [
    "np.mean(a1,axis=0) # row average"
   ]
  },
  {
   "cell_type": "code",
   "execution_count": 151,
   "id": "38879f5a",
   "metadata": {},
   "outputs": [
    {
     "data": {
      "text/plain": [
       "array([2.5, 1.5])"
      ]
     },
     "execution_count": 151,
     "metadata": {},
     "output_type": "execute_result"
    }
   ],
   "source": [
    "np.mean(a2,axis=1)  # column average"
   ]
  },
  {
   "cell_type": "code",
   "execution_count": 91,
   "id": "05ba456e",
   "metadata": {},
   "outputs": [
    {
     "name": "stdout",
     "output_type": "stream",
     "text": [
      "4\n",
      "0\n"
     ]
    }
   ],
   "source": [
    "x=np.array(4)\n",
    "print(x)\n",
    "print(x.ndim)"
   ]
  },
  {
   "cell_type": "code",
   "execution_count": 49,
   "id": "45b05e20",
   "metadata": {},
   "outputs": [
    {
     "name": "stdout",
     "output_type": "stream",
     "text": [
      "[1 2 3 4 5] , 1\n"
     ]
    }
   ],
   "source": [
    "import numpy as np\n",
    "a=np.array([1,2,3,4,5])\n",
    "print(a,',',a.ndim)"
   ]
  },
  {
   "cell_type": "code",
   "execution_count": 59,
   "id": "8c323da9",
   "metadata": {},
   "outputs": [
    {
     "name": "stdout",
     "output_type": "stream",
     "text": [
      "[[1 2 3]\n",
      " [4 5 6]\n",
      " [7 8 9]] no of dimensions= 2\n"
     ]
    }
   ],
   "source": [
    "b=np.array([[1,2,3],[4,5,6],[7,8,9]])\n",
    "\n",
    "print(b,\"no of dimensions=\",b.ndim)"
   ]
  },
  {
   "cell_type": "code",
   "execution_count": 74,
   "id": "5b5faaa9",
   "metadata": {},
   "outputs": [
    {
     "name": "stdout",
     "output_type": "stream",
     "text": [
      "3\n"
     ]
    },
    {
     "data": {
      "text/plain": [
       "array([[[1, 1],\n",
       "        [2, 2]],\n",
       "\n",
       "       [[3, 3],\n",
       "        [4, 4]]])"
      ]
     },
     "execution_count": 74,
     "metadata": {},
     "output_type": "execute_result"
    }
   ],
   "source": [
    "c=np.array([[[1,1],[2,2]],\n",
    "           [[3,3],[4,4]]])\n",
    "print(c.ndim)\n",
    "c"
   ]
  },
  {
   "cell_type": "code",
   "execution_count": 83,
   "id": "1509ebfe",
   "metadata": {},
   "outputs": [
    {
     "name": "stdout",
     "output_type": "stream",
     "text": [
      "4\n"
     ]
    },
    {
     "data": {
      "text/plain": [
       "array([[[[1, 2, 9],\n",
       "         [4, 5, 6]]],\n",
       "\n",
       "\n",
       "       [[[3, 4, 7],\n",
       "         [5, 6, 5]]],\n",
       "\n",
       "\n",
       "       [[[4, 8, 9],\n",
       "         [3, 2, 6]]]])"
      ]
     },
     "execution_count": 83,
     "metadata": {},
     "output_type": "execute_result"
    }
   ],
   "source": [
    "d=np.array([[[[1,2,9],[4,5,6]]],\n",
    "           [[[3,4,7],[5,6,5]]],\n",
    "           [[[4,8,9],[3,2,6]]]])\n",
    "print(d.ndim)\n",
    "d"
   ]
  }
 ],
 "metadata": {
  "kernelspec": {
   "display_name": "Python 3",
   "language": "python",
   "name": "python3"
  },
  "language_info": {
   "codemirror_mode": {
    "name": "ipython",
    "version": 3
   },
   "file_extension": ".py",
   "mimetype": "text/x-python",
   "name": "python",
   "nbconvert_exporter": "python",
   "pygments_lexer": "ipython3",
   "version": "3.8.8"
  }
 },
 "nbformat": 4,
 "nbformat_minor": 5
}
